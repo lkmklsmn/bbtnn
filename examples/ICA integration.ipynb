{
 "cells": [
  {
   "cell_type": "code",
   "execution_count": 1,
   "metadata": {
    "colab": {},
    "colab_type": "code",
    "id": "niN7B6rOSRm6"
   },
   "outputs": [],
   "source": [
    "import scanpy as sc\n",
    "from bbtnn import tnn"
   ]
  },
  {
   "cell_type": "code",
   "execution_count": 3,
   "metadata": {
    "colab": {},
    "colab_type": "code",
    "id": "prn3fahFcBBx"
   },
   "outputs": [],
   "source": [
    "adata = sc.read(\"/Users/lsimon/OneDrive/Miko/UTHealth/projects/BatchBalancedTriplets/data/HCA/bm_cm_merged.h5ad\")"
   ]
  },
  {
   "cell_type": "code",
   "execution_count": 0,
   "metadata": {
    "colab": {},
    "colab_type": "code",
    "id": "FJjVRHJYco27"
   },
   "outputs": [],
   "source": [
    "sc.pp.subsample(adata, n_obs = 100000)"
   ]
  },
  {
   "cell_type": "code",
   "execution_count": null,
   "metadata": {
    "colab": {},
    "colab_type": "code",
    "id": "tZsJlqcMhmPr"
   },
   "outputs": [
    {
     "name": "stderr",
     "output_type": "stream",
     "text": [
      "C:\\Users\\lsimon\\AppData\\Local\\Continuum\\anaconda3\\lib\\site-packages\\numba\\compiler.py:588: NumbaPerformanceWarning: \n",
      "The keyword argument 'parallel=True' was specified but no transformation for parallel execution was possible.\n",
      "\n",
      "To find out why, try turning on parallel diagnostics, see http://numba.pydata.org/numba-doc/latest/user/parallel.html#diagnostics for help.\n",
      "\n",
      "File \"..\\..\\..\\..\\AppData\\Local\\Continuum\\anaconda3\\lib\\site-packages\\umap\\rp_tree.py\", line 135:\n",
      "@numba.njit(fastmath=True, nogil=True, parallel=True)\n",
      "def euclidean_random_projection_split(data, indices, rng_state):\n",
      "^\n",
      "\n",
      "  self.func_ir.loc))\n",
      "C:\\Users\\lsimon\\AppData\\Local\\Continuum\\anaconda3\\lib\\site-packages\\numba\\compiler.py:588: NumbaPerformanceWarning: \n",
      "The keyword argument 'parallel=True' was specified but no transformation for parallel execution was possible.\n",
      "\n",
      "To find out why, try turning on parallel diagnostics, see http://numba.pydata.org/numba-doc/latest/user/parallel.html#diagnostics for help.\n",
      "\n",
      "File \"..\\..\\..\\..\\AppData\\Local\\Continuum\\anaconda3\\lib\\site-packages\\umap\\rp_tree.py\", line 135:\n",
      "@numba.njit(fastmath=True, nogil=True, parallel=True)\n",
      "def euclidean_random_projection_split(data, indices, rng_state):\n",
      "^\n",
      "\n",
      "  self.func_ir.loc))\n"
     ]
    }
   ],
   "source": [
    "%%time\n",
    "sc.pp.neighbors(adata)\n",
    "sc.tl.umap(adata)"
   ]
  },
  {
   "cell_type": "code",
   "execution_count": null,
   "metadata": {
    "colab": {},
    "colab_type": "code",
    "id": "dfmA4coEhsLr"
   },
   "outputs": [],
   "source": [
    "sc.pl.umap(adata, color = \"batch\")"
   ]
  },
  {
   "cell_type": "code",
   "execution_count": null,
   "metadata": {
    "colab": {},
    "colab_type": "code",
    "id": "XgMTjZ2vf1nC"
   },
   "outputs": [],
   "source": [
    "adata_tnn = adata.copy()"
   ]
  },
  {
   "cell_type": "code",
   "execution_count": null,
   "metadata": {
    "colab": {},
    "colab_type": "code",
    "id": "H1mljL61csEq"
   },
   "outputs": [],
   "source": [
    "%%time\n",
    "model = tnn.TNN(k = 100, batch_size = 64, n_epochs_without_progress = 3, verbose = 2)\n",
    "model.fit(X = adata_tnn, Y = None)\n",
    "embedding = model.transform(X = adata_tnn)"
   ]
  },
  {
   "cell_type": "code",
   "execution_count": null,
   "metadata": {
    "colab": {},
    "colab_type": "code",
    "id": "OBSPGCW0eTqC"
   },
   "outputs": [],
   "source": [
    "adata_tnn.obsm[\"X_umap\"] = embedding"
   ]
  },
  {
   "cell_type": "code",
   "execution_count": null,
   "metadata": {
    "colab": {},
    "colab_type": "code",
    "id": "t55Ua_soeZM2"
   },
   "outputs": [],
   "source": [
    "sc.pl.umap(adata_tnn, color = \"batch\")"
   ]
  },
  {
   "cell_type": "code",
   "execution_count": null,
   "metadata": {
    "colab": {},
    "colab_type": "code",
    "id": "__X30pBxfVbX"
   },
   "outputs": [],
   "source": [
    "%%capture\n",
    "!pip install hdbscan\n",
    "import hdbscan"
   ]
  },
  {
   "cell_type": "code",
   "execution_count": null,
   "metadata": {
    "colab": {},
    "colab_type": "code",
    "id": "F9OFDU9ael6o"
   },
   "outputs": [],
   "source": [
    "clusterer = hdbscan.HDBSCAN(min_cluster_size = 100)\n",
    "clusterer.fit(embedding)\n",
    "adata_tnn.obs[\"cluster\"] = clusterer.labels_.astype(\"str\")\n",
    "sc.pl.umap(adata_tnn, color = \"cluster\", legend_loc = \"on data\")"
   ]
  },
  {
   "cell_type": "code",
   "execution_count": null,
   "metadata": {
    "colab": {},
    "colab_type": "code",
    "id": "lr21I9w1gEg1"
   },
   "outputs": [],
   "source": [
    "sc.tl.rank_genes_groups(adata_tnn, groupby = \"cluster\")"
   ]
  },
  {
   "cell_type": "code",
   "execution_count": null,
   "metadata": {
    "colab": {},
    "colab_type": "code",
    "id": "053OI-QAfovJ"
   },
   "outputs": [],
   "source": [
    "%%time\n",
    "import bbknn\n",
    "adata_bbknn = adata.copy()\n",
    "sc.external.pp.bbknn(adata_bbknn, batch_key='batch', approx=True)\n",
    "sc.tl.umap(adata_bbknn)"
   ]
  },
  {
   "cell_type": "code",
   "execution_count": null,
   "metadata": {
    "colab": {},
    "colab_type": "code",
    "id": "cPBHNCbLfu-U"
   },
   "outputs": [],
   "source": [
    "adata_bbknn.obs[\"cluster\"] = adata_tnn.obs[\"cluster\"]\n",
    "sc.pl.umap(adata_bbknn, color = [\"batch\", \"cluster\"])"
   ]
  },
  {
   "cell_type": "code",
   "execution_count": 0,
   "metadata": {
    "colab": {},
    "colab_type": "code",
    "id": "qjxlM7_xnMgF"
   },
   "outputs": [],
   "source": []
  }
 ],
 "metadata": {
  "accelerator": "GPU",
  "colab": {
   "authorship_tag": "ABX9TyODyEym3HteLVs4LSgExa72",
   "collapsed_sections": [],
   "name": "ICA integration.ipynb",
   "provenance": []
  },
  "kernelspec": {
   "display_name": "Python 3",
   "language": "python",
   "name": "python3"
  },
  "language_info": {
   "codemirror_mode": {
    "name": "ipython",
    "version": 3
   },
   "file_extension": ".py",
   "mimetype": "text/x-python",
   "name": "python",
   "nbconvert_exporter": "python",
   "pygments_lexer": "ipython3",
   "version": "3.7.3"
  }
 },
 "nbformat": 4,
 "nbformat_minor": 1
}
